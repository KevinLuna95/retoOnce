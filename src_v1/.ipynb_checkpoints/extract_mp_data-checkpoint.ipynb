{
 "cells": [
  {
   "cell_type": "code",
   "execution_count": null,
   "metadata": {},
   "outputs": [],
   "source": [
    "import mediapipe as mp\n",
    "import cv2 as cv\n",
    "import math\n",
    "import numpy as np\n",
    "from matplotlib.image import imread\n",
    "import matplotlib.pyplot as plt\n",
    "import os\n",
    "import keyboard\n",
    "import time\n",
    "import shutil\n"
   ]
  },
  {
   "cell_type": "code",
   "execution_count": 2,
   "metadata": {},
   "outputs": [],
   "source": [
    "import pandas as pd\n",
    "from tensorflow.keras.preprocessing.image import ImageDataGenerator\n",
    "from tensorflow.keras.preprocessing import image\n",
    "from tensorflow.keras.optimizers import RMSprop\n",
    "import tensorflow as tf\n",
    "import os\n",
    "from PIL import Image\n",
    "from itertools import islice"
   ]
  },
  {
   "cell_type": "code",
   "execution_count": 3,
   "metadata": {},
   "outputs": [],
   "source": [
    "mp_hands = mp.solutions.hands\n",
    "mp_drawing = mp.solutions.drawing_utils\n",
    "mp_drawing_styles = mp.solutions.drawing_styles"
   ]
  },
  {
   "cell_type": "code",
   "execution_count": 4,
   "metadata": {},
   "outputs": [
    {
     "name": "stderr",
     "output_type": "stream",
     "text": [
      "C:\\Users\\jarco\\AppData\\Roaming\\Python\\Python312\\site-packages\\google\\protobuf\\symbol_database.py:55: UserWarning: SymbolDatabase.GetPrototype() is deprecated. Please use message_factory.GetMessageClass() instead. SymbolDatabase.GetPrototype() will be removed soon.\n",
      "  warnings.warn('SymbolDatabase.GetPrototype() is deprecated. Please '\n"
     ]
    }
   ],
   "source": [
    "\n",
    "cap = cv.VideoCapture('abc2.mp4')\n",
    "with mp_hands.Hands(\n",
    "    static_image_mode = False,\n",
    "    max_num_hands = 2,\n",
    "    model_complexity=0,\n",
    "    min_detection_confidence=0.3,\n",
    "    min_tracking_confidence=0.7) as hands:\n",
    "\n",
    "    while cap.isOpened():\n",
    "\n",
    "        success, image = cap.read()\n",
    "        if not success:\n",
    "            cap.release()\n",
    "            cv.destroyAllWindows()\n",
    "        else:\n",
    "            if cv.waitKey(25) & 0xFF == ord('q'):\n",
    "                break\n",
    "\n",
    "            image.flags.writeable = False\n",
    "            image = image\n",
    "            cv.imshow('frame', cv.flip(image, 1))\n",
    "            results = hands.process(image)\n",
    "            image.flags.writeable = True\n",
    "\n",
    "            if results.multi_hand_landmarks:\n",
    "                for hand_landmarks in results.multi_hand_landmarks:\n",
    "                    mp_drawing.draw_landmarks(\n",
    "                        image,\n",
    "                        hand_landmarks,\n",
    "                        mp_hands.HAND_CONNECTIONS,\n",
    "                        mp_drawing_styles.get_default_hand_landmarks_style(),\n",
    "                        mp_drawing_styles.get_default_hand_connections_style())\n",
    "            cv.imshow('MediaPipe Hands', cv.flip(image, 1))\n",
    "\n",
    "            frameWidth = cap.get(cv.CAP_PROP_FRAME_WIDTH)\n",
    "            frameHeight = cap.get(cv.CAP_PROP_FRAME_HEIGHT)\n",
    "\n",
    "    cap.release()\n",
    "    cv.destroyAllWindows()"
   ]
  },
  {
   "cell_type": "code",
   "execution_count": 5,
   "metadata": {},
   "outputs": [],
   "source": [
    "def make_folders(actions, no_sequences, DATA_PATH):\n",
    "    for action in actions: \n",
    "        for frame_num in range(no_sequences):\n",
    "            try: \n",
    "                os.makedirs(os.path.join(DATA_PATH, action, str(frame_num)))\n",
    "            except:\n",
    "                pass"
   ]
  },
  {
   "cell_type": "code",
   "execution_count": 6,
   "metadata": {},
   "outputs": [],
   "source": [
    "def extract_keypoints(results, width, height):\n",
    "    keypoint_values = []\n",
    "    hand_no = 0\n",
    "\n",
    "    # as many results as hands\n",
    "    # as many times through loop as hands\n",
    "    if results.multi_hand_landmarks:\n",
    "        for hand_no, handLandmarks in enumerate(results.multi_hand_landmarks):\n",
    "            hand_no =+ 1\n",
    "            for point in mp.solutions.hands.HandLandmark:\n",
    "                # by default, landmarks are returned in their normalized format\n",
    "                normalizedLandmark = handLandmarks.landmark[point]\n",
    "                # function returns tuple of x and y coordinates \n",
    "                pixelCoordinatesLandmark = mp.solutions.drawing_utils._normalized_to_pixel_coordinates(normalizedLandmark.x, normalizedLandmark.y, width, height)\n",
    "                keypoint_values.append([normalizedLandmark.x, normalizedLandmark.y, handLandmarks.landmark[point].z])\n",
    "                keypoint_array = np.array(keypoint_values)\n",
    "                keypoint_array_flat = keypoint_array.flatten()\n",
    "        \n",
    "        if (hand_no == 1) and (len(keypoint_array_flat) < 126): \n",
    "            zero_array = np.zeros(63)\n",
    "            if results.multi_handedness[0].classification[0].label == 'Right':\n",
    "                keypoint_array_flat = np.append(keypoint_array_flat, zero_array)\n",
    "            elif results.multi_handedness[0].classification[0].label == 'Left':\n",
    "                keypoint_array_flat = np.append(zero_array, keypoint_array_flat)\n",
    "\n",
    "        return (keypoint_array_flat)"
   ]
  },
  {
   "cell_type": "code",
   "execution_count": 7,
   "metadata": {},
   "outputs": [],
   "source": [
    "DATA_PATH = os.path.join('MP_Data_test') \n",
    "actions = [ 'hola']\n",
    "key = [1f]\n",
    "key_action = dict(zip(key,actions))\n",
    "no_sequences = 15\n",
    "sequence_length = 20\n",
    "\n",
    "make_folders(actions, no_sequences, DATA_PATH)"
   ]
  },
  {
   "cell_type": "code",
   "execution_count": 15,
   "metadata": {},
   "outputs": [],
   "source": [
    "cap = cv.VideoCapture('abc2.mp4')\n",
    "with mp_hands.Hands(\n",
    "    static_image_mode = False,\n",
    "    max_num_hands =2 ,\n",
    "    model_complexity=0,\n",
    "    min_detection_confidence=0.3,\n",
    "    min_tracking_confidence=0.7) as hands:\n",
    "\n",
    "    while cap.isOpened():\n",
    "        success, image = cap.read()\n",
    "        if not success:\n",
    "            print('error')\n",
    "            cap.release()\n",
    "            cv.destroyAllWindows()\n",
    "        else:\n",
    "            if cv.waitKey(5) & 0xFF == ord('q'):\n",
    "                break\n",
    "            image.flags.writeable = False\n",
    "            image = image\n",
    "            cv.imshow('frame', cv.flip(image, 1))\n",
    "            results = hands.process(image)\n",
    "            image.flags.writeable = True\n",
    "\n",
    "            if results.multi_hand_landmarks:\n",
    "                for hand_landmarks in results.multi_hand_landmarks:\n",
    "                    mp_drawing.draw_landmarks(\n",
    "                        image,\n",
    "                        hand_landmarks,\n",
    "                        mp_hands.HAND_CONNECTIONS,\n",
    "                        mp_drawing_styles.get_default_hand_landmarks_style(),\n",
    "                        mp_drawing_styles.get_default_hand_connections_style())\n",
    "            cv.imshow('MediaPipe Hands', cv.flip(image, 1))\n",
    "            frameWidth = cap.get(cv.CAP_PROP_FRAME_WIDTH)\n",
    "            frameHeight = cap.get(cv.CAP_PROP_FRAME_HEIGHT)\n",
    "            number = 1\n",
    "            count = 2\n",
    "            if keyboard.is_pressed(str(number)):\n",
    "                print('keyboard pressed: {}'.format(number))\n",
    "                for frame_num in range(sequence_length):\n",
    "                    #cv.imwrite('Frame'+str(frame_num)+'.jpg', image)\n",
    "                    keypoints = extract_keypoints(results, frameWidth, frameHeight)\n",
    "                    action = key_action[number]\n",
    "                    npy_path = os.path.join(DATA_PATH, action, str(count), str(frame_num))\n",
    "                    print(os.path.join(DATA_PATH, action, str(count), str(frame_num)))\n",
    "                    np.save(npy_path, keypoints)\n",
    "                    success, image = cap.read()\n",
    "                    frame_num = frame_num +1\n",
    "\n",
    "    cap.release()\n",
    "    cv.destroyAllWindows()"
   ]
  },
  {
   "cell_type": "code",
   "execution_count": 10,
   "metadata": {},
   "outputs": [],
   "source": [
    "results.multi_hand_landmarks"
   ]
  },
  {
   "cell_type": "code",
   "execution_count": 14,
   "metadata": {},
   "outputs": [
    {
     "name": "stdout",
     "output_type": "stream",
     "text": [
      "(126,)\n"
     ]
    }
   ],
   "source": [
    "array_results = np.load('MP_Data_test/c/0/9.npy', allow_pickle=True)\n",
    "print(np.array(array_results).shape)"
   ]
  },
  {
   "cell_type": "code",
   "execution_count": null,
   "metadata": {},
   "outputs": [],
   "source": []
  }
 ],
 "metadata": {
  "interpreter": {
   "hash": "29fc651a7b730cd70b5cc0d1ba484563eb58f5d47650e0848ded60a3fec35677"
  },
  "kernelspec": {
   "display_name": "Python 3 (ipykernel)",
   "language": "python",
   "name": "python3"
  },
  "language_info": {
   "codemirror_mode": {
    "name": "ipython",
    "version": 3
   },
   "file_extension": ".py",
   "mimetype": "text/x-python",
   "name": "python",
   "nbconvert_exporter": "python",
   "pygments_lexer": "ipython3",
   "version": "3.11.5"
  }
 },
 "nbformat": 4,
 "nbformat_minor": 4
}
