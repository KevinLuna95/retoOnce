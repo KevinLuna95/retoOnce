{
 "cells": [
  {
   "cell_type": "code",
   "execution_count": 1,
   "metadata": {},
   "outputs": [],
   "source": [
    "import mediapipe as mp\n",
    "import cv2 as cv\n",
    "import math\n",
    "import numpy as np\n",
    "from matplotlib.image import imread\n",
    "import matplotlib.pyplot as plt\n",
    "import os\n",
    "import keyboard\n",
    "import time\n",
    "import shutil\n"
   ]
  },
  {
   "cell_type": "code",
   "execution_count": 2,
   "metadata": {},
   "outputs": [],
   "source": [
    "from tensorflow.keras.preprocessing.image import ImageDataGenerator\n",
    "from tensorflow.keras.preprocessing import image\n",
    "from tensorflow.keras.optimizers import RMSprop\n",
    "import tensorflow as tf\n",
    "import os\n",
    "from PIL import Image\n",
    "from itertools import islice"
   ]
  },
  {
   "cell_type": "code",
   "execution_count": 3,
   "metadata": {},
   "outputs": [],
   "source": [
    "mp_hands = mp.solutions.hands\n",
    "mp_drawing = mp.solutions.drawing_utils\n",
    "mp_drawing_styles = mp.solutions.drawing_styles"
   ]
  },
  {
   "cell_type": "code",
   "execution_count": 4,
   "metadata": {},
   "outputs": [
    {
     "name": "stderr",
     "output_type": "stream",
     "text": [
      "WARNING: All log messages before absl::InitializeLog() is called are written to STDERR\n",
      "I0000 00:00:1715812421.677122  157673 gl_context.cc:357] GL version: 2.1 (2.1 Metal - 88), renderer: Apple M1\n",
      "INFO: Created TensorFlow Lite XNNPACK delegate for CPU.\n",
      "W0000 00:00:1715812421.682743  159716 inference_feedback_manager.cc:114] Feedback manager requires a model with a single signature inference. Disabling support for feedback tensors.\n",
      "W0000 00:00:1715812421.684571  159716 inference_feedback_manager.cc:114] Feedback manager requires a model with a single signature inference. Disabling support for feedback tensors.\n",
      "2024-05-16 00:33:41.790 Python[32577:157673] WARNING: Secure coding is not enabled for restorable state! Enable secure coding by implementing NSApplicationDelegate.applicationSupportsSecureRestorableState: and returning YES.\n",
      "/Library/Frameworks/Python.framework/Versions/3.12/lib/python3.12/site-packages/google/protobuf/symbol_database.py:55: UserWarning: SymbolDatabase.GetPrototype() is deprecated. Please use message_factory.GetMessageClass() instead. SymbolDatabase.GetPrototype() will be removed soon.\n",
      "  warnings.warn('SymbolDatabase.GetPrototype() is deprecated. Please '\n"
     ]
    }
   ],
   "source": [
    "\n",
    "cap = cv.VideoCapture('abc2.mp4')\n",
    "with mp_hands.Hands(\n",
    "    static_image_mode = False,\n",
    "    max_num_hands = 2,\n",
    "    model_complexity=0,\n",
    "    min_detection_confidence=0.3,\n",
    "    min_tracking_confidence=0.7) as hands:\n",
    "\n",
    "    while cap.isOpened():\n",
    "\n",
    "        success, image = cap.read()\n",
    "        if not success:\n",
    "            cap.release()\n",
    "            cv.destroyAllWindows()\n",
    "        else:\n",
    "            if cv.waitKey(25) & 0xFF == ord('q'):\n",
    "                break\n",
    "\n",
    "            image.flags.writeable = False\n",
    "            image = image\n",
    "            cv.imshow('frame', cv.flip(image, 1))\n",
    "            results = hands.process(image)\n",
    "            image.flags.writeable = True\n",
    "\n",
    "            if results.multi_hand_landmarks:\n",
    "                for hand_landmarks in results.multi_hand_landmarks:\n",
    "                    mp_drawing.draw_landmarks(\n",
    "                        image,\n",
    "                        hand_landmarks,\n",
    "                        mp_hands.HAND_CONNECTIONS,\n",
    "                        mp_drawing_styles.get_default_hand_landmarks_style(),\n",
    "                        mp_drawing_styles.get_default_hand_connections_style())\n",
    "            cv.imshow('MediaPipe Hands', cv.flip(image, 1))\n",
    "\n",
    "            frameWidth = cap.get(cv.CAP_PROP_FRAME_WIDTH)\n",
    "            frameHeight = cap.get(cv.CAP_PROP_FRAME_HEIGHT)\n",
    "\n",
    "    cap.release()\n",
    "    cv.destroyAllWindows()"
   ]
  },
  {
   "cell_type": "code",
   "execution_count": 5,
   "metadata": {},
   "outputs": [],
   "source": [
    "def make_folders(actions, no_sequences, DATA_PATH):\n",
    "    for action in actions: \n",
    "        for frame_num in range(no_sequences):\n",
    "            try: \n",
    "                os.makedirs(os.path.join(DATA_PATH, action, str(frame_num)))\n",
    "            except:\n",
    "                pass"
   ]
  },
  {
   "cell_type": "code",
   "execution_count": 6,
   "metadata": {},
   "outputs": [],
   "source": [
    "def extract_keypoints(results, width, height):\n",
    "    keypoint_values = []\n",
    "    hand_no = 0\n",
    "\n",
    "    # as many results as hands\n",
    "    # as many times through loop as hands\n",
    "    if results.multi_hand_landmarks:\n",
    "        for hand_no, handLandmarks in enumerate(results.multi_hand_landmarks):\n",
    "            hand_no =+ 1\n",
    "            for point in mp.solutions.hands.HandLandmark:\n",
    "                # by default, landmarks are returned in their normalized format\n",
    "                normalizedLandmark = handLandmarks.landmark[point]\n",
    "                # function returns tuple of x and y coordinates \n",
    "                pixelCoordinatesLandmark = mp.solutions.drawing_utils._normalized_to_pixel_coordinates(normalizedLandmark.x, normalizedLandmark.y, width, height)\n",
    "                keypoint_values.append([normalizedLandmark.x, normalizedLandmark.y, handLandmarks.landmark[point].z])\n",
    "                keypoint_array = np.array(keypoint_values)\n",
    "                keypoint_array_flat = keypoint_array.flatten()\n",
    "        \n",
    "        if (hand_no == 1) and (len(keypoint_array_flat) < 126): \n",
    "            zero_array = np.zeros(63)\n",
    "            if results.multi_handedness[0].classification[0].label == 'Right':\n",
    "                keypoint_array_flat = np.append(keypoint_array_flat, zero_array)\n",
    "            elif results.multi_handedness[0].classification[0].label == 'Left':\n",
    "                keypoint_array_flat = np.append(zero_array, keypoint_array_flat)\n",
    "\n",
    "        return (keypoint_array_flat)"
   ]
  },
  {
   "cell_type": "code",
   "execution_count": 7,
   "metadata": {},
   "outputs": [],
   "source": [
    "DATA_PATH = os.path.join('MP_Data_test') \n",
    "actions = [ 'hola']\n",
    "key = [1.0]\n",
    "key_action = dict(zip(key,actions))\n",
    "no_sequences = 15\n",
    "sequence_length = 20\n",
    "\n",
    "make_folders(actions, no_sequences, DATA_PATH)"
   ]
  },
  {
   "cell_type": "code",
   "execution_count": 9,
   "metadata": {},
   "outputs": [
    {
     "name": "stderr",
     "output_type": "stream",
     "text": [
      "I0000 00:00:1715812510.126980  157673 gl_context.cc:357] GL version: 2.1 (2.1 Metal - 88), renderer: Apple M1\n",
      "W0000 00:00:1715812510.134426  160575 inference_feedback_manager.cc:114] Feedback manager requires a model with a single signature inference. Disabling support for feedback tensors.\n",
      "W0000 00:00:1715812510.138991  160575 inference_feedback_manager.cc:114] Feedback manager requires a model with a single signature inference. Disabling support for feedback tensors.\n"
     ]
    },
    {
     "ename": "ValueError",
     "evalue": "(\"Key '1' is not mapped to any known key.\", ValueError('Unrecognized character: 1'))",
     "output_type": "error",
     "traceback": [
      "\u001b[0;31m---------------------------------------------------------------------------\u001b[0m",
      "\u001b[0;31mValueError\u001b[0m                                Traceback (most recent call last)",
      "Cell \u001b[0;32mIn[9], line 37\u001b[0m\n\u001b[1;32m     35\u001b[0m number \u001b[38;5;241m=\u001b[39m \u001b[38;5;241m1\u001b[39m\n\u001b[1;32m     36\u001b[0m count \u001b[38;5;241m=\u001b[39m \u001b[38;5;241m2\u001b[39m\n\u001b[0;32m---> 37\u001b[0m \u001b[38;5;28;01mif\u001b[39;00m \u001b[43mkeyboard\u001b[49m\u001b[38;5;241;43m.\u001b[39;49m\u001b[43mis_pressed\u001b[49m\u001b[43m(\u001b[49m\u001b[38;5;28;43mstr\u001b[39;49m\u001b[43m(\u001b[49m\u001b[43mnumber\u001b[49m\u001b[43m)\u001b[49m\u001b[43m)\u001b[49m:\n\u001b[1;32m     38\u001b[0m     \u001b[38;5;28mprint\u001b[39m(\u001b[38;5;124m'\u001b[39m\u001b[38;5;124mkeyboard pressed: \u001b[39m\u001b[38;5;132;01m{}\u001b[39;00m\u001b[38;5;124m'\u001b[39m\u001b[38;5;241m.\u001b[39mformat(number))\n\u001b[1;32m     39\u001b[0m     \u001b[38;5;28;01mfor\u001b[39;00m frame_num \u001b[38;5;129;01min\u001b[39;00m \u001b[38;5;28mrange\u001b[39m(sequence_length):\n\u001b[1;32m     40\u001b[0m         \u001b[38;5;66;03m#cv.imwrite('Frame'+str(frame_num)+'.jpg', image)\u001b[39;00m\n",
      "File \u001b[0;32m/Library/Frameworks/Python.framework/Versions/3.12/lib/python3.12/site-packages/keyboard/__init__.py:417\u001b[0m, in \u001b[0;36mis_pressed\u001b[0;34m(hotkey)\u001b[0m\n\u001b[1;32m    414\u001b[0m     \u001b[38;5;28;01mwith\u001b[39;00m _pressed_events_lock:\n\u001b[1;32m    415\u001b[0m         \u001b[38;5;28;01mreturn\u001b[39;00m hotkey \u001b[38;5;129;01min\u001b[39;00m _pressed_events\n\u001b[0;32m--> 417\u001b[0m steps \u001b[38;5;241m=\u001b[39m \u001b[43mparse_hotkey\u001b[49m\u001b[43m(\u001b[49m\u001b[43mhotkey\u001b[49m\u001b[43m)\u001b[49m\n\u001b[1;32m    418\u001b[0m \u001b[38;5;28;01mif\u001b[39;00m \u001b[38;5;28mlen\u001b[39m(steps) \u001b[38;5;241m>\u001b[39m \u001b[38;5;241m1\u001b[39m:\n\u001b[1;32m    419\u001b[0m     \u001b[38;5;28;01mraise\u001b[39;00m \u001b[38;5;167;01mValueError\u001b[39;00m(\u001b[38;5;124m\"\u001b[39m\u001b[38;5;124mImpossible to check if multi-step hotkeys are pressed (`a+b` is ok, `a, b` isn\u001b[39m\u001b[38;5;124m'\u001b[39m\u001b[38;5;124mt).\u001b[39m\u001b[38;5;124m\"\u001b[39m)\n",
      "File \u001b[0;32m/Library/Frameworks/Python.framework/Versions/3.12/lib/python3.12/site-packages/keyboard/__init__.py:344\u001b[0m, in \u001b[0;36mparse_hotkey\u001b[0;34m(hotkey)\u001b[0m\n\u001b[1;32m    329\u001b[0m \u001b[38;5;250m\u001b[39m\u001b[38;5;124;03m\"\"\"\u001b[39;00m\n\u001b[1;32m    330\u001b[0m \u001b[38;5;124;03mParses a user-provided hotkey into nested tuples representing the\u001b[39;00m\n\u001b[1;32m    331\u001b[0m \u001b[38;5;124;03mparsed structure, with the bottom values being lists of scan codes.\u001b[39;00m\n\u001b[0;32m   (...)\u001b[0m\n\u001b[1;32m    341\u001b[0m \u001b[38;5;124;03m    # ((alt_codes, shift_codes, a_codes), (alt_codes, b_codes), (c_codes,))\u001b[39;00m\n\u001b[1;32m    342\u001b[0m \u001b[38;5;124;03m\"\"\"\u001b[39;00m\n\u001b[1;32m    343\u001b[0m \u001b[38;5;28;01mif\u001b[39;00m _is_number(hotkey) \u001b[38;5;129;01mor\u001b[39;00m \u001b[38;5;28mlen\u001b[39m(hotkey) \u001b[38;5;241m==\u001b[39m \u001b[38;5;241m1\u001b[39m:\n\u001b[0;32m--> 344\u001b[0m     scan_codes \u001b[38;5;241m=\u001b[39m \u001b[43mkey_to_scan_codes\u001b[49m\u001b[43m(\u001b[49m\u001b[43mhotkey\u001b[49m\u001b[43m)\u001b[49m\n\u001b[1;32m    345\u001b[0m     step \u001b[38;5;241m=\u001b[39m (scan_codes,)\n\u001b[1;32m    346\u001b[0m     steps \u001b[38;5;241m=\u001b[39m (step,)\n",
      "File \u001b[0;32m/Library/Frameworks/Python.framework/Versions/3.12/lib/python3.12/site-packages/keyboard/__init__.py:324\u001b[0m, in \u001b[0;36mkey_to_scan_codes\u001b[0;34m(key, error_if_missing)\u001b[0m\n\u001b[1;32m    321\u001b[0m     e \u001b[38;5;241m=\u001b[39m exception\n\u001b[1;32m    323\u001b[0m \u001b[38;5;28;01mif\u001b[39;00m \u001b[38;5;129;01mnot\u001b[39;00m t \u001b[38;5;129;01mand\u001b[39;00m error_if_missing:\n\u001b[0;32m--> 324\u001b[0m     \u001b[38;5;28;01mraise\u001b[39;00m \u001b[38;5;167;01mValueError\u001b[39;00m(\u001b[38;5;124m'\u001b[39m\u001b[38;5;124mKey \u001b[39m\u001b[38;5;132;01m{}\u001b[39;00m\u001b[38;5;124m is not mapped to any known key.\u001b[39m\u001b[38;5;124m'\u001b[39m\u001b[38;5;241m.\u001b[39mformat(\u001b[38;5;28mrepr\u001b[39m(key)), e)\n\u001b[1;32m    325\u001b[0m \u001b[38;5;28;01melse\u001b[39;00m:\n\u001b[1;32m    326\u001b[0m     \u001b[38;5;28;01mreturn\u001b[39;00m t\n",
      "\u001b[0;31mValueError\u001b[0m: (\"Key '1' is not mapped to any known key.\", ValueError('Unrecognized character: 1'))"
     ]
    }
   ],
   "source": [
    "cap = cv.VideoCapture('abc2.mp4')\n",
    "with mp_hands.Hands(\n",
    "    static_image_mode = False,\n",
    "    max_num_hands =2 ,\n",
    "    model_complexity=0,\n",
    "    min_detection_confidence=0.3,\n",
    "    min_tracking_confidence=0.7) as hands:\n",
    "\n",
    "    while cap.isOpened():\n",
    "        success, image = cap.read()\n",
    "        if not success:\n",
    "            print('error')\n",
    "            cap.release()\n",
    "            cv.destroyAllWindows()\n",
    "        else:\n",
    "            if cv.waitKey(5) & 0xFF == ord('q'):\n",
    "                break\n",
    "            image.flags.writeable = False\n",
    "            image = image\n",
    "            cv.imshow('frame', cv.flip(image, 1))\n",
    "            results = hands.process(image)\n",
    "            image.flags.writeable = True\n",
    "\n",
    "            if results.multi_hand_landmarks:\n",
    "                for hand_landmarks in results.multi_hand_landmarks:\n",
    "                    mp_drawing.draw_landmarks(\n",
    "                        image,\n",
    "                        hand_landmarks,\n",
    "                        mp_hands.HAND_CONNECTIONS,\n",
    "                        mp_drawing_styles.get_default_hand_landmarks_style(),\n",
    "                        mp_drawing_styles.get_default_hand_connections_style())\n",
    "            cv.imshow('MediaPipe Hands', cv.flip(image, 1))\n",
    "            frameWidth = cap.get(cv.CAP_PROP_FRAME_WIDTH)\n",
    "            frameHeight = cap.get(cv.CAP_PROP_FRAME_HEIGHT)\n",
    "            number = 1\n",
    "            count = 2\n",
    "            if keyboard.is_pressed(str(number)):\n",
    "                print('keyboard pressed: {}'.format(number))\n",
    "                for frame_num in range(sequence_length):\n",
    "                    #cv.imwrite('Frame'+str(frame_num)+'.jpg', image)\n",
    "                    keypoints = extract_keypoints(results, frameWidth, frameHeight)\n",
    "                    action = key_action[number]\n",
    "                    npy_path = os.path.join(DATA_PATH, action, str(count), str(frame_num))\n",
    "                    print(os.path.join(DATA_PATH, action, str(count), str(frame_num)))\n",
    "                    np.save(npy_path, keypoints)\n",
    "                    success, image = cap.read()\n",
    "                    frame_num = frame_num +1\n",
    "\n",
    "    cap.release()\n",
    "    cv.destroyAllWindows()"
   ]
  },
  {
   "cell_type": "code",
   "execution_count": 14,
   "metadata": {},
   "outputs": [],
   "source": [
    "results.multi_hand_landmarks"
   ]
  },
  {
   "cell_type": "code",
   "execution_count": 15,
   "metadata": {},
   "outputs": [
    {
     "name": "stdout",
     "output_type": "stream",
     "text": [
      "(126,)\n"
     ]
    }
   ],
   "source": [
    "array_results = np.load('MP_Data/c/0/9.npy', allow_pickle=True)\n",
    "print(np.array(array_results).shape)"
   ]
  },
  {
   "cell_type": "code",
   "execution_count": null,
   "metadata": {},
   "outputs": [],
   "source": []
  },
  {
   "cell_type": "code",
   "execution_count": null,
   "metadata": {},
   "outputs": [],
   "source": []
  }
 ],
 "metadata": {
  "interpreter": {
   "hash": "29fc651a7b730cd70b5cc0d1ba484563eb58f5d47650e0848ded60a3fec35677"
  },
  "kernelspec": {
   "display_name": "Python 3 (ipykernel)",
   "language": "python",
   "name": "python3"
  },
  "language_info": {
   "codemirror_mode": {
    "name": "ipython",
    "version": 3
   },
   "file_extension": ".py",
   "mimetype": "text/x-python",
   "name": "python",
   "nbconvert_exporter": "python",
   "pygments_lexer": "ipython3",
   "version": "3.12.3"
  }
 },
 "nbformat": 4,
 "nbformat_minor": 4
}
